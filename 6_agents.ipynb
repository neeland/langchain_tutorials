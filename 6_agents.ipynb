{
 "cells": [
  {
   "cell_type": "markdown",
   "metadata": {},
   "source": [
    "># [Build an Agent](https://python.langchain.com/docs/tutorials/agents/)\n",
    "> ---\n",
    "> *Build agent that can interact with search engine*\n",
    "\n",
    "Ask this agent questions, watch it call the search tool, and have conversations with it"
   ]
  },
  {
   "cell_type": "markdown",
   "metadata": {},
   "source": [
    "* [Agents](https://python.langchain.com/docs/concepts/agents/) are systems using LLMs as**reasoning engines to determine:\n",
    "  *  `action(s)`\n",
    "  *  `inputs` needed for this\n",
    "\n",
    "* After executing actions results fed back into LLM:\n",
    "  *  Det `next_action(s)` and/or\n",
    "  *  Det `finished`?\n",
    "\n",
    "Often acheived via [tool-calling](https://python.langchain.com/docs/concepts/tool_calling/)"
   ]
  },
  {
   "cell_type": "markdown",
   "metadata": {},
   "source": [
    "## End-to-end agent\n",
    "\n",
    "* Fully functional agent using LLM to decide which tools to use\n",
    "* Equipped with a **generic search tool**. \n",
    "* Has conversational memory → **multi-turn chatbot**"
   ]
  },
  {
   "cell_type": "code",
   "execution_count": null,
   "metadata": {},
   "outputs": [],
   "source": [
    "import os\n",
    "from dotenv import load_dotenv\n",
    "\n",
    "# Load secrets from file\n",
    "with open('secrets.txt') as f:\n",
    "    for line in f:\n",
    "        if '=' in line:\n",
    "            key, value = line.strip().split('=', 1)\n",
    "            os.environ[key] = value\n",
    "\n",
    "# Initialize LangChain\n",
    "from langchain_openai import ChatOpenAI\n",
    "model = ChatOpenAI(model=\"gpt-4\")"
   ]
  },
  {
   "cell_type": "code",
   "execution_count": 16,
   "metadata": {},
   "outputs": [
    {
     "name": "stdout",
     "output_type": "stream",
     "text": [
      "{'agent': {'messages': [AIMessage(content=\"Hello Bob! It's nice to meet you. San Francisco is a wonderful city with so much to see and do. What are some of your favorite things about living there? I'd be happy to provide some recommendations for attractions, restaurants, or activities if you're looking for new things to check out in the area.\", additional_kwargs={}, response_metadata={'id': 'msg_01DTPD9YzGFNQU7gWX9AVWYR', 'model': 'claude-3-sonnet-20240229', 'stop_reason': 'end_turn', 'stop_sequence': None, 'usage': {'cache_creation_input_tokens': 0, 'cache_read_input_tokens': 0, 'input_tokens': 271, 'output_tokens': 67}}, id='run-5f6ccb76-811a-4244-b862-c751fd67677e-0', usage_metadata={'input_tokens': 271, 'output_tokens': 67, 'total_tokens': 338, 'input_token_details': {'cache_read': 0, 'cache_creation': 0}})]}}\n",
      "----\n",
      "{'agent': {'messages': [AIMessage(content=[{'text': 'Okay, let me use the search tool to look up the current weather forecast for San Francisco:', 'type': 'text'}, {'id': 'toolu_01Ez84aKiDW5PqeKPTow3zyf', 'input': {'query': 'san francisco weather forecast'}, 'name': 'tavily_search_results_json', 'type': 'tool_use'}], additional_kwargs={}, response_metadata={'id': 'msg_01U62UJATNLePUxQYjg6VtyW', 'model': 'claude-3-sonnet-20240229', 'stop_reason': 'tool_use', 'stop_sequence': None, 'usage': {'cache_creation_input_tokens': 0, 'cache_read_input_tokens': 0, 'input_tokens': 349, 'output_tokens': 82}}, id='run-e999b74c-cbb3-41b8-94dd-75bc3166e5d7-0', tool_calls=[{'name': 'tavily_search_results_json', 'args': {'query': 'san francisco weather forecast'}, 'id': 'toolu_01Ez84aKiDW5PqeKPTow3zyf', 'type': 'tool_call'}], usage_metadata={'input_tokens': 349, 'output_tokens': 82, 'total_tokens': 431, 'input_token_details': {'cache_read': 0, 'cache_creation': 0}})]}}\n",
      "----\n",
      "{'tools': {'messages': [ToolMessage(content='[{\"url\": \"https://www.weatherapi.com/\", \"content\": \"{\\'location\\': {\\'name\\': \\'San Francisco\\', \\'region\\': \\'California\\', \\'country\\': \\'United States of America\\', \\'lat\\': 37.775, \\'lon\\': -122.4183, \\'tz_id\\': \\'America/Los_Angeles\\', \\'localtime_epoch\\': 1736354385, \\'localtime\\': \\'2025-01-08 08:39\\'}, \\'current\\': {\\'last_updated_epoch\\': 1736353800, \\'last_updated\\': \\'2025-01-08 08:30\\', \\'temp_c\\': 12.2, \\'temp_f\\': 54.0, \\'is_day\\': 1, \\'condition\\': {\\'text\\': \\'Sunny\\', \\'icon\\': \\'//cdn.weatherapi.com/weather/64x64/day/113.png\\', \\'code\\': 1000}, \\'wind_mph\\': 8.5, \\'wind_kph\\': 13.7, \\'wind_degree\\': 65, \\'wind_dir\\': \\'ENE\\', \\'pressure_mb\\': 1024.0, \\'pressure_in\\': 30.25, \\'precip_mm\\': 0.0, \\'precip_in\\': 0.0, \\'humidity\\': 38, \\'cloud\\': 0, \\'feelslike_c\\': 10.8, \\'feelslike_f\\': 51.4, \\'windchill_c\\': 7.4, \\'windchill_f\\': 45.4, \\'heatindex_c\\': 9.1, \\'heatindex_f\\': 48.4, \\'dewpoint_c\\': 2.4, \\'dewpoint_f\\': 36.2, \\'vis_km\\': 14.0, \\'vis_miles\\': 8.0, \\'uv\\': 0.1, \\'gust_mph\\': 14.6, \\'gust_kph\\': 23.5}}\"}, {\"url\": \"https://world-weather.info/forecast/usa/san_francisco/august-2025/\", \"content\": \"Weather in San Francisco in August 2025 (California) - Detailed Weather Forecast for a Month Weather World Weather in San Francisco Weather in San Francisco in August 2025 San Francisco Weather Forecast for August 2025, is based on previous years\\' statistical data. +72°+61° +70°+59° +72°+61° +70°+61° +70°+61° +70°+61° +72°+61° +70°+61° +70°+59° +70°+61° +72°+59° +72°+63° +72°+61° +72°+61° +72°+61° +72°+61° +70°+61° +70°+61° +72°+61° +72°+61° +72°+61° +72°+61° +72°+61° +72°+61° +72°+61° +75°+61° +73°+63° +72°+63° +72°+63° +72°+61° Extended weather forecast in San Francisco HourlyWeek10-Day14-Day30-DayYear Weather in Washington, D.C.+30° Sacramento+63° Pleasanton+61° Redwood City+63° San Leandro+64° San Mateo+64° San Rafael+63° San Ramon+59° South San Francisco+64° Vallejo+66° Palo Alto+63° Pacifica+63° Berkeley+63° Castro Valley+64° Concord+61° Daly City+66° Woodland+64° Kibesillah+48° world\\'s temperature today day day Temperature units\"}]', name='tavily_search_results_json', id='a1a4dd71-24ed-4cf8-9a43-acacba4f6e15', tool_call_id='toolu_01Ez84aKiDW5PqeKPTow3zyf', artifact={'query': 'san francisco weather forecast', 'follow_up_questions': None, 'answer': None, 'images': [], 'results': [{'title': 'Weather in San Francisco, California', 'url': 'https://www.weatherapi.com/', 'content': \"{'location': {'name': 'San Francisco', 'region': 'California', 'country': 'United States of America', 'lat': 37.775, 'lon': -122.4183, 'tz_id': 'America/Los_Angeles', 'localtime_epoch': 1736354385, 'localtime': '2025-01-08 08:39'}, 'current': {'last_updated_epoch': 1736353800, 'last_updated': '2025-01-08 08:30', 'temp_c': 12.2, 'temp_f': 54.0, 'is_day': 1, 'condition': {'text': 'Sunny', 'icon': '//cdn.weatherapi.com/weather/64x64/day/113.png', 'code': 1000}, 'wind_mph': 8.5, 'wind_kph': 13.7, 'wind_degree': 65, 'wind_dir': 'ENE', 'pressure_mb': 1024.0, 'pressure_in': 30.25, 'precip_mm': 0.0, 'precip_in': 0.0, 'humidity': 38, 'cloud': 0, 'feelslike_c': 10.8, 'feelslike_f': 51.4, 'windchill_c': 7.4, 'windchill_f': 45.4, 'heatindex_c': 9.1, 'heatindex_f': 48.4, 'dewpoint_c': 2.4, 'dewpoint_f': 36.2, 'vis_km': 14.0, 'vis_miles': 8.0, 'uv': 0.1, 'gust_mph': 14.6, 'gust_kph': 23.5}}\", 'score': 0.9844158, 'raw_content': None}, {'title': 'Weather in San Francisco in August 2025', 'url': 'https://world-weather.info/forecast/usa/san_francisco/august-2025/', 'content': \"Weather in San Francisco in August 2025 (California) - Detailed Weather Forecast for a Month Weather World Weather in San Francisco Weather in San Francisco in August 2025 San Francisco Weather Forecast for August 2025, is based on previous years' statistical data. +72°+61° +70°+59° +72°+61° +70°+61° +70°+61° +70°+61° +72°+61° +70°+61° +70°+59° +70°+61° +72°+59° +72°+63° +72°+61° +72°+61° +72°+61° +72°+61° +70°+61° +70°+61° +72°+61° +72°+61° +72°+61° +72°+61° +72°+61° +72°+61° +72°+61° +75°+61° +73°+63° +72°+63° +72°+63° +72°+61° Extended weather forecast in San Francisco HourlyWeek10-Day14-Day30-DayYear Weather in Washington, D.C.+30° Sacramento+63° Pleasanton+61° Redwood City+63° San Leandro+64° San Mateo+64° San Rafael+63° San Ramon+59° South San Francisco+64° Vallejo+66° Palo Alto+63° Pacifica+63° Berkeley+63° Castro Valley+64° Concord+61° Daly City+66° Woodland+64° Kibesillah+48° world's temperature today day day Temperature units\", 'score': 0.9304142, 'raw_content': None}], 'response_time': 3.09})]}}\n",
      "----\n",
      "{'agent': {'messages': [AIMessage(content=\"According to the weather forecast, it looks like the current weather in San Francisco is sunny with a temperature around 54°F (12°C). The forecast calls for mostly sunny and mild conditions over the next few days as well.\\n\\nSome key details from the forecast:\\n\\n- Clear skies, sunny\\n- Temperature of 54°F (12°C), feeling like 51°F (11°C) with the wind\\n- Light winds around 9 mph from the east-northeast\\n- Low humidity around 38%\\n- Excellent visibility of 8 miles\\n\\nSo while the temperature is cooler given San Francisco's proximity to the bay, the sunny skies and lack of rain make for pleasant late winter weather in the city. Let me know if you need any other details about the forecast where you live!\", additional_kwargs={}, response_metadata={'id': 'msg_01KWHJEgXWGAiGb7jtJHMf9w', 'model': 'claude-3-sonnet-20240229', 'stop_reason': 'end_turn', 'stop_sequence': None, 'usage': {'cache_creation_input_tokens': 0, 'cache_read_input_tokens': 0, 'input_tokens': 1349, 'output_tokens': 176}}, id='run-dcdec987-8c66-4565-a96a-c6df452948b9-0', usage_metadata={'input_tokens': 1349, 'output_tokens': 176, 'total_tokens': 1525, 'input_token_details': {'cache_read': 0, 'cache_creation': 0}})]}}\n",
      "----\n"
     ]
    }
   ],
   "source": [
    "# Import relevant functionality\n",
    "from langchain_anthropic import ChatAnthropic\n",
    "from langchain_community.tools.tavily_search import TavilySearchResults\n",
    "from langchain_core.messages import HumanMessage\n",
    "from langgraph.checkpoint.memory import MemorySaver\n",
    "from langgraph.prebuilt import create_react_agent\n",
    "\n",
    "# Create the agent\n",
    "memory = MemorySaver()\n",
    "model = ChatAnthropic(model_name=\"claude-3-sonnet-20240229\")\n",
    "search = TavilySearchResults(max_results=2)\n",
    "tools = [search]\n",
    "agent_executor = create_react_agent(model, tools, checkpointer=memory)\n",
    "\n",
    "# Use the agent\n",
    "config = {\"configurable\": {\"thread_id\": \"abc123\"}}\n",
    "for chunk in agent_executor.stream(\n",
    "    {\"messages\": [HumanMessage(content=\"hi im bob! and i live in sf\")]}, config\n",
    "):\n",
    "    print(chunk)\n",
    "    print(\"----\")\n",
    "\n",
    "for chunk in agent_executor.stream(\n",
    "    {\"messages\": [HumanMessage(\n",
    "        content=\"whats the weather where I live?\")]}, config\n",
    "):\n",
    "    print(chunk)\n",
    "    print(\"----\")"
   ]
  },
  {
   "cell_type": "markdown",
   "metadata": {},
   "source": [
    "## Define Tools\n",
    "\n",
    "main tool of choice will be [Tavily](https://python.langchain.com/docs/integrations/tools/tavily_search/) - a search engine. We have a built-in tool in LangChain to easily use Tavily search engine as tool."
   ]
  },
  {
   "cell_type": "code",
   "execution_count": null,
   "metadata": {},
   "outputs": [],
   "source": [
    "from langchain_community.tools.tavily_search import TavilySearchResults\n",
    "\n",
    "search = TavilySearchResults(max_results=2)\n",
    "search_results = search.invoke(\"what is the weather in SF\")\n",
    "print(search_results)\n",
    "# If we want, we can create other tools.\n",
    "# Once we have all the tools we want, we can put them in a list that we will reference later.\n",
    "tools = [search]"
   ]
  },
  {
   "cell_type": "code",
   "execution_count": 17,
   "metadata": {},
   "outputs": [],
   "source": [
    "from langchain_openai import ChatOpenAI\n",
    "\n",
    "model = ChatOpenAI(model=\"gpt-4\")"
   ]
  },
  {
   "cell_type": "markdown",
   "metadata": {},
   "source": [
    "## Using Language Models to Call Tools\n",
    "\n",
    "\n",
    "You can call the language model by passing in a **list of messages**. By default, the **response is a content string**."
   ]
  },
  {
   "cell_type": "code",
   "execution_count": 19,
   "metadata": {},
   "outputs": [
    {
     "data": {
      "text/plain": [
       "'Hello! How can I assist you today?'"
      ]
     },
     "execution_count": 19,
     "metadata": {},
     "output_type": "execute_result"
    }
   ],
   "source": [
    "from langchain_core.messages import HumanMessage\n",
    "\n",
    "response = model.invoke([HumanMessage(content=\"hi!\")])\n",
    "response.content"
   ]
  },
  {
   "cell_type": "markdown",
   "metadata": {},
   "source": [
    "### Use `.bind_tools` to give LLM knowledge of these tools"
   ]
  },
  {
   "cell_type": "code",
   "execution_count": 20,
   "metadata": {},
   "outputs": [],
   "source": [
    "model_with_tools = model.bind_tools(tools)"
   ]
  },
  {
   "cell_type": "markdown",
   "metadata": {},
   "source": [
    "##### Not using tools (no need from query)"
   ]
  },
  {
   "cell_type": "code",
   "execution_count": 21,
   "metadata": {},
   "outputs": [
    {
     "name": "stdout",
     "output_type": "stream",
     "text": [
      "ContentString: Hello! How can I assist you today?\n",
      "ToolCalls: []\n"
     ]
    }
   ],
   "source": [
    "response = model_with_tools.invoke([HumanMessage(content=\"Hi!\")])\n",
    "\n",
    "print(f\"ContentString: {response.content}\")\n",
    "print(f\"ToolCalls: {response.tool_calls}\")"
   ]
  },
  {
   "cell_type": "markdown",
   "metadata": {},
   "source": [
    "##### With tool use"
   ]
  },
  {
   "cell_type": "code",
   "execution_count": null,
   "metadata": {},
   "outputs": [
    {
     "name": "stdout",
     "output_type": "stream",
     "text": [
      "ContentString: \n",
      "ToolCalls: [{'name': 'tavily_search_results_json', 'args': {'query': 'current weather in San Francisco'}, 'id': 'call_XASeUbhgncRfNtN1xLmu0Kab', 'type': 'tool_call'}]\n"
     ]
    }
   ],
   "source": [
    "response = model_with_tools.invoke(\n",
    "    [HumanMessage(content=\"What's the weather in SF?\")])\n",
    "\n",
    "print(f\"ContentString: {response.content}\")\n",
    "print(f\"ToolCalls: {response.tool_calls}\")"
   ]
  },
  {
   "cell_type": "markdown",
   "metadata": {},
   "source": [
    "* no text content, but there is a tool call! \n",
    "\n",
    "* isn't calling that tool yet - it's just telling us to\n",
    "\n",
    "* need to agent"
   ]
  },
  {
   "cell_type": "markdown",
   "metadata": {},
   "source": [
    "## Creating `agent`"
   ]
  },
  {
   "cell_type": "markdown",
   "metadata": {},
   "source": [
    "```\n",
    "LLM + tools = agent\n",
    "````"
   ]
  },
  {
   "cell_type": "markdown",
   "metadata": {},
   "source": [
    "  * using a high level interface to construct `agent`,* LangGraph has high-level interface backed by low-level → highly controllable API → can modify gent logic\n",
    "\n",
    "\n",
    "initialize the agent with  `LLM` & `tools`\n",
    "\n",
    "> `Note:`  we are passing  `model` not `model_with_tools` ; `create_react_agent` will call `.bind_tools` under the hood"
   ]
  },
  {
   "cell_type": "code",
   "execution_count": 23,
   "metadata": {},
   "outputs": [],
   "source": [
    "from langgraph.prebuilt import create_react_agent\n",
    "\n",
    "agent_executor = create_react_agent(model, tools)"
   ]
  },
  {
   "cell_type": "markdown",
   "metadata": {},
   "source": [
    "## Run `agent`\n",
    "\n",
    "Running stateless queries (won't remember previous interactions)\n",
    "\n",
    " agent will return  final state at the end of the interaction (which includes any inputs, we will see later on how to get only the outputs).\n"
   ]
  },
  {
   "cell_type": "code",
   "execution_count": 24,
   "metadata": {},
   "outputs": [
    {
     "data": {
      "text/plain": [
       "[HumanMessage(content='hi!', additional_kwargs={}, response_metadata={}, id='94e3641e-8b35-4b9c-8215-7a2e6a15fec6'),\n",
       " AIMessage(content='Hello! How can I assist you today?', additional_kwargs={'refusal': None}, response_metadata={'token_usage': {'completion_tokens': 11, 'prompt_tokens': 83, 'total_tokens': 94, 'completion_tokens_details': {'accepted_prediction_tokens': 0, 'audio_tokens': 0, 'reasoning_tokens': 0, 'rejected_prediction_tokens': 0}, 'prompt_tokens_details': {'audio_tokens': 0, 'cached_tokens': 0}}, 'model_name': 'gpt-4-0613', 'system_fingerprint': None, 'finish_reason': 'stop', 'logprobs': None}, id='run-0da627c9-2a8b-499b-874c-74cc866c83e2-0', usage_metadata={'input_tokens': 83, 'output_tokens': 11, 'total_tokens': 94, 'input_token_details': {'audio': 0, 'cache_read': 0}, 'output_token_details': {'audio': 0, 'reasoning': 0}})]"
      ]
     },
     "execution_count": 24,
     "metadata": {},
     "output_type": "execute_result"
    }
   ],
   "source": [
    "response = agent_executor.invoke({\"messages\": [HumanMessage(content=\"hi!\")]})\n",
    "\n",
    "response[\"messages\"]"
   ]
  },
  {
   "cell_type": "markdown",
   "metadata": {},
   "source": [
    " now try it out on an example where it should be invoking the tool\n",
    "\n"
   ]
  },
  {
   "cell_type": "code",
   "execution_count": 25,
   "metadata": {},
   "outputs": [
    {
     "data": {
      "text/plain": [
       "[HumanMessage(content='whats the weather in sf?', additional_kwargs={}, response_metadata={}, id='c220ce71-3bf7-4dd8-99d7-f73a217925d8'),\n",
       " AIMessage(content='', additional_kwargs={'tool_calls': [{'id': 'call_ctUd7YAPgfO5WfOwF0QsygQf', 'function': {'arguments': '{\\n  \"query\": \"current weather in San Francisco\"\\n}', 'name': 'tavily_search_results_json'}, 'type': 'function'}], 'refusal': None}, response_metadata={'token_usage': {'completion_tokens': 24, 'prompt_tokens': 88, 'total_tokens': 112, 'completion_tokens_details': {'accepted_prediction_tokens': 0, 'audio_tokens': 0, 'reasoning_tokens': 0, 'rejected_prediction_tokens': 0}, 'prompt_tokens_details': {'audio_tokens': 0, 'cached_tokens': 0}}, 'model_name': 'gpt-4-0613', 'system_fingerprint': None, 'finish_reason': 'tool_calls', 'logprobs': None}, id='run-3c509336-d5dc-421f-9833-d925f9119b1d-0', tool_calls=[{'name': 'tavily_search_results_json', 'args': {'query': 'current weather in San Francisco'}, 'id': 'call_ctUd7YAPgfO5WfOwF0QsygQf', 'type': 'tool_call'}], usage_metadata={'input_tokens': 88, 'output_tokens': 24, 'total_tokens': 112, 'input_token_details': {'audio': 0, 'cache_read': 0}, 'output_token_details': {'audio': 0, 'reasoning': 0}}),\n",
       " ToolMessage(content='[{\"url\": \"https://www.weatherapi.com/\", \"content\": \"{\\'location\\': {\\'name\\': \\'San Francisco\\', \\'region\\': \\'California\\', \\'country\\': \\'United States of America\\', \\'lat\\': 37.775, \\'lon\\': -122.4183, \\'tz_id\\': \\'America/Los_Angeles\\', \\'localtime_epoch\\': 1736353199, \\'localtime\\': \\'2025-01-08 08:19\\'}, \\'current\\': {\\'last_updated_epoch\\': 1736352900, \\'last_updated\\': \\'2025-01-08 08:15\\', \\'temp_c\\': 12.4, \\'temp_f\\': 54.3, \\'is_day\\': 1, \\'condition\\': {\\'text\\': \\'Sunny\\', \\'icon\\': \\'//cdn.weatherapi.com/weather/64x64/day/113.png\\', \\'code\\': 1000}, \\'wind_mph\\': 8.5, \\'wind_kph\\': 13.7, \\'wind_degree\\': 65, \\'wind_dir\\': \\'ENE\\', \\'pressure_mb\\': 1024.0, \\'pressure_in\\': 30.25, \\'precip_mm\\': 0.0, \\'precip_in\\': 0.0, \\'humidity\\': 44, \\'cloud\\': 0, \\'feelslike_c\\': 11.0, \\'feelslike_f\\': 51.8, \\'windchill_c\\': 7.4, \\'windchill_f\\': 45.4, \\'heatindex_c\\': 9.1, \\'heatindex_f\\': 48.4, \\'dewpoint_c\\': 2.4, \\'dewpoint_f\\': 36.2, \\'vis_km\\': 16.0, \\'vis_miles\\': 9.0, \\'uv\\': 0.1, \\'gust_mph\\': 14.6, \\'gust_kph\\': 23.5}}\"}, {\"url\": \"https://www.msn.com/en-us/weather/meteorology/january-8-2025-san-francisco-bay-area-weather-forecast/vi-AA1xaWYU\", \"content\": \"January 8, 2025 San Francisco Bay Area weather forecast. Posted: January 8, 2025 | Last updated: January 8, 2025. KRON4 Meteorologist John Shrable has the latest forecast. <a\"}]', name='tavily_search_results_json', id='3e744982-538c-47a2-bba5-701116206fe8', tool_call_id='call_ctUd7YAPgfO5WfOwF0QsygQf', artifact={'query': 'current weather in San Francisco', 'follow_up_questions': None, 'answer': None, 'images': [], 'results': [{'title': 'Weather in San Francisco', 'url': 'https://www.weatherapi.com/', 'content': \"{'location': {'name': 'San Francisco', 'region': 'California', 'country': 'United States of America', 'lat': 37.775, 'lon': -122.4183, 'tz_id': 'America/Los_Angeles', 'localtime_epoch': 1736353199, 'localtime': '2025-01-08 08:19'}, 'current': {'last_updated_epoch': 1736352900, 'last_updated': '2025-01-08 08:15', 'temp_c': 12.4, 'temp_f': 54.3, 'is_day': 1, 'condition': {'text': 'Sunny', 'icon': '//cdn.weatherapi.com/weather/64x64/day/113.png', 'code': 1000}, 'wind_mph': 8.5, 'wind_kph': 13.7, 'wind_degree': 65, 'wind_dir': 'ENE', 'pressure_mb': 1024.0, 'pressure_in': 30.25, 'precip_mm': 0.0, 'precip_in': 0.0, 'humidity': 44, 'cloud': 0, 'feelslike_c': 11.0, 'feelslike_f': 51.8, 'windchill_c': 7.4, 'windchill_f': 45.4, 'heatindex_c': 9.1, 'heatindex_f': 48.4, 'dewpoint_c': 2.4, 'dewpoint_f': 36.2, 'vis_km': 16.0, 'vis_miles': 9.0, 'uv': 0.1, 'gust_mph': 14.6, 'gust_kph': 23.5}}\", 'score': 0.8122357, 'raw_content': None}, {'title': 'January 8, 2025 San Francisco Bay Area weather forecast - MSN', 'url': 'https://www.msn.com/en-us/weather/meteorology/january-8-2025-san-francisco-bay-area-weather-forecast/vi-AA1xaWYU', 'content': 'January 8, 2025 San Francisco Bay Area weather forecast. Posted: January 8, 2025 | Last updated: January 8, 2025. KRON4 Meteorologist John Shrable has the latest forecast. <a', 'score': 0.71040785, 'raw_content': None}], 'response_time': 2.27}),\n",
       " AIMessage(content='The current weather in San Francisco, California is sunny with a temperature of 12.4°C (54.3°F). The wind is coming from the ENE at 13.7 kph (8.5 mph). The humidity is at 44%. [Source](https://www.weatherapi.com/)', additional_kwargs={'refusal': None}, response_metadata={'token_usage': {'completion_tokens': 65, 'prompt_tokens': 628, 'total_tokens': 693, 'completion_tokens_details': {'accepted_prediction_tokens': 0, 'audio_tokens': 0, 'reasoning_tokens': 0, 'rejected_prediction_tokens': 0}, 'prompt_tokens_details': {'audio_tokens': 0, 'cached_tokens': 0}}, 'model_name': 'gpt-4-0613', 'system_fingerprint': None, 'finish_reason': 'stop', 'logprobs': None}, id='run-450015ad-e1cf-401b-b7a1-82d5c1cf8de2-0', usage_metadata={'input_tokens': 628, 'output_tokens': 65, 'total_tokens': 693, 'input_token_details': {'audio': 0, 'cache_read': 0}, 'output_token_details': {'audio': 0, 'reasoning': 0}})]"
      ]
     },
     "execution_count": 25,
     "metadata": {},
     "output_type": "execute_result"
    }
   ],
   "source": [
    "response = agent_executor.invoke(\n",
    "    {\"messages\": [HumanMessage(content=\"whats the weather in sf?\")]}\n",
    ")\n",
    "response[\"messages\"]"
   ]
  },
  {
   "cell_type": "code",
   "execution_count": null,
   "metadata": {},
   "outputs": [],
   "source": []
  }
 ],
 "metadata": {
  "kernelspec": {
   "display_name": "Python 3",
   "language": "python",
   "name": "python3"
  },
  "language_info": {
   "codemirror_mode": {
    "name": "ipython",
    "version": 3
   },
   "file_extension": ".py",
   "mimetype": "text/x-python",
   "name": "python",
   "nbconvert_exporter": "python",
   "pygments_lexer": "ipython3",
   "version": "3.12.8"
  }
 },
 "nbformat": 4,
 "nbformat_minor": 2
}
