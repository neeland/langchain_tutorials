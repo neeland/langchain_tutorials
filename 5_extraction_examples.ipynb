{
 "cells": [
  {
   "cell_type": "markdown",
   "metadata": {},
   "source": [
    "# [How to use reference examples when doing extraction](https://python.langchain.com/docs/how_to/extraction_examples/)"
   ]
  }
 ],
 "metadata": {
  "language_info": {
   "name": "python"
  }
 },
 "nbformat": 4,
 "nbformat_minor": 2
}
