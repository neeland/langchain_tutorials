{
 "cells": [
  {
   "cell_type": "markdown",
   "metadata": {},
   "source": [
    "# [Tagging 🏷️](https://python.langchain.com/docs/tutorials/classification/)\n",
    "---\n",
    "\n",
    "Tagging uses functions to specify how the model should tag a document\n",
    "\n",
    "* `function`: Like extraction, tagging uses [functions](https://openai.com/index/function-calling-and-other-api-updates/) to specify how the model should tag a document\n",
    "* `schema`: defines how we want to tag the document\n",
    "\n",
    "![Image URL](https://python.langchain.com/assets/images/tagging-93990e95451d92b715c2b47066384224.png)\n",
    "\n",
    "\n"
   ]
  }
 ],
 "metadata": {
  "kernelspec": {
   "display_name": "🦜",
   "language": "python",
   "name": "python3"
  },
  "language_info": {
   "name": "python",
   "version": "3.10.16"
  }
 },
 "nbformat": 4,
 "nbformat_minor": 2
}
